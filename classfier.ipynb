{
 "cells": [
  {
   "cell_type": "code",
   "execution_count": 5,
   "id": "4c09f93c-1112-4de0-bd69-25178ea3992a",
   "metadata": {},
   "outputs": [
    {
     "name": "stdout",
     "output_type": "stream",
     "text": [
      "[40741.52675367]\n"
     ]
    },
    {
     "name": "stderr",
     "output_type": "stream",
     "text": [
      "C:\\Users\\atmiya\\AppData\\Local\\Programs\\Python\\Python310\\lib\\site-packages\\sklearn\\utils\\validation.py:1408: DataConversionWarning: A column-vector y was passed when a 1d array was expected. Please change the shape of y to (n_samples, ), for example using ravel().\n",
      "  y = column_or_1d(y, warn=True)\n"
     ]
    }
   ],
   "source": [
    "#support vector machine(svm)\n",
    "import numpy as np\n",
    "from sklearn.svm import SVR\n",
    "\n",
    "x=np.array([[1],[2],[3],[4],[5]])\n",
    "y=np.array([[30000],[35000],[40000],[45000],[50000]])\n",
    "\n",
    "model=SVR(kernel='rbf',C=1000,epsilon=500)\n",
    "model.fit(x,y)\n",
    "\n",
    "print(model.predict([[6]]))"
   ]
  },
  {
   "cell_type": "code",
   "execution_count": 11,
   "id": "7004f213-4929-41a7-8c38-bfa8e415924c",
   "metadata": {},
   "outputs": [
    {
     "name": "stdout",
     "output_type": "stream",
     "text": [
      "confusion matrix:\n",
      " [[1 0]\n",
      " [0 2]]\n",
      "\n",
      " classification report:\n",
      "               precision    recall  f1-score   support\n",
      "\n",
      "           0       1.00      1.00      1.00         1\n",
      "           1       1.00      1.00      1.00         2\n",
      "\n",
      "    accuracy                           1.00         3\n",
      "   macro avg       1.00      1.00      1.00         3\n",
      "weighted avg       1.00      1.00      1.00         3\n",
      "\n"
     ]
    },
    {
     "name": "stderr",
     "output_type": "stream",
     "text": [
      "C:\\Users\\atmiya\\AppData\\Local\\Programs\\Python\\Python310\\lib\\site-packages\\sklearn\\utils\\validation.py:1408: DataConversionWarning: A column-vector y was passed when a 1d array was expected. Please change the shape of y to (n_samples, ), for example using ravel().\n",
      "  y = column_or_1d(y, warn=True)\n"
     ]
    }
   ],
   "source": [
    "#Classifier\n",
    "#Logistic Regression\n",
    "import numpy as np\n",
    "import pandas as pd\n",
    "from sklearn.linear_model import LogisticRegression\n",
    "from sklearn.model_selection import train_test_split\n",
    "from sklearn.metrics import confusion_matrix,classification_report\n",
    "\n",
    "data={\n",
    "    'mark':[25,35,40,55,65,75,90],\n",
    "    'result':['Fail','Fail','Pass','Pass','Pass','Pass','Pass']\n",
    "}\n",
    "df=pd.DataFrame(data)\n",
    "df['result']=df['result'].map({'Fail':0,'Pass':1})\n",
    "\n",
    "x=df[['mark']]\n",
    "y=df[['result']]\n",
    "\n",
    "x_train,x_test,y_train,y_test=train_test_split(x,y,test_size=0.3,random_state=1)\n",
    "\n",
    "model=LogisticRegression()\n",
    "model.fit(x_train,y_train)\n",
    "\n",
    "y_pred=model.predict(x_test)\n",
    "\n",
    "print('confusion matrix:\\n',confusion_matrix(y_test,y_pred))\n",
    "print('\\n classification report:\\n',classification_report(y_test,y_pred))"
   ]
  },
  {
   "cell_type": "code",
   "execution_count": 6,
   "id": "86324f81-a74f-4db3-afd3-988aeffe4b37",
   "metadata": {},
   "outputs": [
    {
     "name": "stdout",
     "output_type": "stream",
     "text": [
      "Emails:'free offer just for you'->spam\n",
      "Emails:'hi, are we still on for today?'->not spam\n"
     ]
    }
   ],
   "source": [
    "#Classifier\n",
    "#Naive bayes algorithm\n",
    "\n",
    "import pandas as pd\n",
    "from sklearn.feature_extraction.text import CountVectorizer \n",
    "from sklearn.model_selection import train_test_split\n",
    "from sklearn.naive_bayes import MultinomialNB\n",
    "\n",
    "data={\n",
    "    'Message':[\n",
    "        \"win money now\",\n",
    "        \"lowest price offer\",\n",
    "        \"hello friend how are you\",\n",
    "        \"lets meet tommorrow\",\n",
    "        \"congratulatios, you won a lottery\",\n",
    "        \"reminder for the meetting at 5 pm\"\n",
    "    ],\n",
    "    'Label':['spam','spam','not spam','not spam','spam','not spam']\n",
    "}\n",
    "df=pd.DataFrame(data)\n",
    "df['Label']=df['Label'].map({'not spam':0,'spam':1})\n",
    "x=df['Message']\n",
    "y=df['Label']\n",
    "\n",
    "vectorizer=CountVectorizer()\n",
    "x_features=vectorizer.fit_transform(x)\n",
    "\n",
    "x_train,x_test,y_train,y_test=train_test_split(x_features,y,test_size=0.3,random_state=1)\n",
    "\n",
    "model=MultinomialNB()\n",
    "model.fit(x_train,y_train)\n",
    "\n",
    "y_pred=model.predict(x_test)\n",
    "\n",
    "new_emails=[\"free offer just for you\",\"hi, are we still on for today?\"]\n",
    "new_features=vectorizer.transform(new_emails)\n",
    "predictions=model.predict(new_features)\n",
    "\n",
    "for emails,p in zip(new_emails,predictions):\n",
    "    print(f\"Emails:'{emails}'->{'spam' if  p==1 else 'not spam'}\")"
   ]
  },
  {
   "cell_type": "code",
   "execution_count": 10,
   "id": "096bc580-fcd6-4820-90ce-bbe55162bc37",
   "metadata": {},
   "outputs": [
    {
     "data": {
      "image/png": "[encoded data removed]",
      "text/plain": [
       "<Figure size 640x480 with 2 Axes>"
      ]
     },
     "metadata": {},
     "output_type": "display_data"
    }
   ],
   "source": [
    "#confusion matrix\n",
    "import matplotlib.pyplot as plt\n",
    "from sklearn.metrics import confusion_matrix,ConfusionMatrixDisplay\n",
    "\n",
    "y_true=[0,0,1,1,0,1,0,1,1,0]\n",
    "y_pred=[0,1,1,1,0,1,0,1,1,0]\n",
    "\n",
    "cm=confusion_matrix(y_true,y_pred)\n",
    "disp=ConfusionMatrixDisplay(confusion_matrix=cm,display_labels=[\"negative\",\"positive\"])\n",
    "disp.plot(cmap=plt.cm.Blues,values_format='d')\n",
    "\n",
    "plt.title(\"confusion_matrix\")\n",
    "plt.show()"
   ]
  },
  {
   "cell_type": "code",
   "execution_count": null,
   "id": "aad28f27-5b6c-4f06-bf2a-8ef09a364620",
   "metadata": {},
   "outputs": [],
   "source": []
  }
 ],
 "metadata": {
  "kernelspec": {
   "display_name": "Python 3 (ipykernel)",
   "language": "python",
   "name": "python3"
  },
  "language_info": {
   "codemirror_mode": {
    "name": "ipython",
    "version": 3
   },
   "file_extension": ".py",
   "mimetype": "text/x-python",
   "name": "python",
   "nbconvert_exporter": "python",
   "pygments_lexer": "ipython3",
   "version": "3.10.2"
  }
 },
 "nbformat": 4,
 "nbformat_minor": 5
}
