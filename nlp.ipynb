{
 "cells": [
  {
   "cell_type": "code",
   "execution_count": 2,
   "id": "a0f72cc6-189e-4682-810a-0a4854862e5d",
   "metadata": {},
   "outputs": [
    {
     "name": "stderr",
     "output_type": "stream",
     "text": [
      "[nltk_data] Downloading package punkt_tab to\n",
      "[nltk_data]     C:\\Users\\atmiya\\AppData\\Roaming\\nltk_data...\n",
      "[nltk_data]   Package punkt_tab is already up-to-date!\n"
     ]
    },
    {
     "data": {
      "text/plain": [
       "True"
      ]
     },
     "execution_count": 2,
     "metadata": {},
     "output_type": "execute_result"
    }
   ],
   "source": [
    "import nltk\n",
    "nltk.download('punkt_tab')"
   ]
  },
  {
   "cell_type": "code",
   "execution_count": 3,
   "id": "eacdb7f9-8632-4f0e-9aee-34ac82ef4260",
   "metadata": {},
   "outputs": [
    {
     "name": "stdout",
     "output_type": "stream",
     "text": [
      "sentence tokenizer ['I love NLP.', \"it's fun, isn't it ?\"]\n"
     ]
    }
   ],
   "source": [
    "from nltk.tokenize import sent_tokenize\n",
    "\n",
    "text=\"I love NLP. it's fun, isn't it ?\"\n",
    "\n",
    "tokenised_sentence=sent_tokenize(text)\n",
    "print('sentence tokenizer',tokenised_sentence)"
   ]
  },
  {
   "cell_type": "code",
   "execution_count": 7,
   "id": "45bf9335-57fe-4817-a713-2a70cbfc823c",
   "metadata": {},
   "outputs": [
    {
     "name": "stdout",
     "output_type": "stream",
     "text": [
      "word tokenizer ['I', 'love', 'NLP', '.', 'it', \"'s\", 'fun', ',', 'is', \"n't\", 'it', '?']\n"
     ]
    }
   ],
   "source": [
    "from nltk.tokenize import word_tokenize\n",
    "\n",
    "text=\"I love NLP. it's fun, isn't it ?\"\n",
    "\n",
    "tokenised_word=word_tokenize(text)\n",
    "print('word tokenizer',tokenised_word)"
   ]
  },
  {
   "cell_type": "code",
   "execution_count": 8,
   "id": "7b727500-f10e-48ca-b745-cec28d8a32b8",
   "metadata": {},
   "outputs": [
    {
     "name": "stdout",
     "output_type": "stream",
     "text": [
      "word punctuation tokenizer ['I', 'love', 'NLP', '.', 'it', \"'\", 's', 'fun', ',', 'isn', \"'\", 't', 'it', '?']\n"
     ]
    }
   ],
   "source": [
    "from nltk.tokenize import wordpunct_tokenize\n",
    "\n",
    "text=\"I love NLP. it's fun, isn't it ?\"\n",
    "\n",
    "tokenised_punct=wordpunct_tokenize(text)\n",
    "print('word punctuation tokenizer',tokenised_punct)"
   ]
  },
  {
   "cell_type": "code",
   "execution_count": 14,
   "id": "656e9e0e-c816-4933-862e-b35971979263",
   "metadata": {},
   "outputs": [
    {
     "name": "stdout",
     "output_type": "stream",
     "text": [
      "Porter Stemmer\n",
      "student playing played studies studying --> student playing played studies studi\n",
      "Snowball Stemmer\n",
      "student playing played studies studying --> student playing played studies studi\n",
      "Lancaster Stemmer\n",
      "student playing played studies studying --> student playing played studies studying\n"
     ]
    }
   ],
   "source": [
    "#stemming\n",
    "from nltk.stem import PorterStemmer,SnowballStemmer,LancasterStemmer\n",
    "\n",
    "porter=PorterStemmer()\n",
    "snowball=SnowballStemmer(\"english\")\n",
    "lancaster=LancasterStemmer()\n",
    "\n",
    "# word=[\"student\",\"playing\",\"played\",\"studies\",\"studying\"]\n",
    "word=[\"student playing played studies studying\"]\n",
    "print('Porter Stemmer')\n",
    "for w in word:\n",
    "    print(w,'-->',porter.stem(w))\n",
    "print('Snowball Stemmer')\n",
    "for w in word:\n",
    "    print(w,'-->',snowball.stem(w))\n",
    "print('Lancaster Stemmer')\n",
    "for w in word:\n",
    "    print(w,'-->',lancaster.stem(w))"
   ]
  },
  {
   "cell_type": "code",
   "execution_count": null,
   "id": "565b057b-c2fd-4c8f-b648-d2aaa1cef767",
   "metadata": {},
   "outputs": [],
   "source": []
  }
 ],
 "metadata": {
  "kernelspec": {
   "display_name": "Python 3 (ipykernel)",
   "language": "python",
   "name": "python3"
  },
  "language_info": {
   "codemirror_mode": {
    "name": "ipython",
    "version": 3
   },
   "file_extension": ".py",
   "mimetype": "text/x-python",
   "name": "python",
   "nbconvert_exporter": "python",
   "pygments_lexer": "ipython3",
   "version": "3.10.2"
  }
 },
 "nbformat": 4,
 "nbformat_minor": 5
}
