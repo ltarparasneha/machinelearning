{
 "cells": [
  {
   "cell_type": "code",
   "execution_count": 3,
   "id": "97034f34-df92-4a7b-8443-f75418285bc7",
   "metadata": {},
   "outputs": [
    {
     "name": "stdout",
     "output_type": "stream",
     "text": [
      "[[-4.]\n",
      " [-2.]\n",
      " [ 0.]\n",
      " [ 2.]\n",
      " [ 4.]]\n",
      "[2.82842712]\n",
      "[0.]\n"
     ]
    }
   ],
   "source": [
    "#mean removal\n",
    "import numpy as np\n",
    "from sklearn import preprocessing\n",
    "data=np.array([[2],[4],[6],[8],[10]])\n",
    "mean=data.mean(axis=0)\n",
    "mean_remove=data-mean\n",
    "print(mean_remove)\n",
    "print(mean_remove.std(axis=0))\n",
    "print(mean_remove.mean(axis=0))\n",
    "data_standerdize=preprocessing.scale(data)"
   ]
  },
  {
   "cell_type": "code",
   "execution_count": 5,
   "id": "71898f57-8a2d-4ea2-b224-57c565441bd8",
   "metadata": {},
   "outputs": [
    {
     "name": "stdout",
     "output_type": "stream",
     "text": [
      "[[10]\n",
      " [20]\n",
      " [30]\n",
      " [40]\n",
      " [50]]\n",
      "[[0.  ]\n",
      " [0.25]\n",
      " [0.5 ]\n",
      " [0.75]\n",
      " [1.  ]]\n"
     ]
    }
   ],
   "source": [
    "#scalling\n",
    "import numpy as np\n",
    "from sklearn import preprocessing\n",
    "data=np.array([[10],[20],[30],[40],[50]])\n",
    "print(data)\n",
    "data_scaler=preprocessing.MinMaxScaler(feature_range=(0,1))\n",
    "scaled_data=data_scaler.fit_transform(data)\n",
    "print(scaled_data)"
   ]
  },
  {
   "cell_type": "code",
   "execution_count": 8,
   "id": "bc3d496c-942a-4616-8142-b5e151b48a05",
   "metadata": {},
   "outputs": [
    {
     "name": "stdout",
     "output_type": "stream",
     "text": [
      "[[ 3  4]\n",
      " [ 1  2]\n",
      " [ 5 12]]\n",
      "**********************************************************************\n",
      "[[0.42857143 0.57142857]\n",
      " [0.33333333 0.66666667]\n",
      " [0.29411765 0.70588235]]\n",
      "**********************************************************************\n",
      "[[0.6        0.8       ]\n",
      " [0.4472136  0.89442719]\n",
      " [0.38461538 0.92307692]]\n"
     ]
    }
   ],
   "source": [
    "#Normalization\n",
    "import numpy as np\n",
    "from sklearn import preprocessing\n",
    "data=np.array([[3,4],[1,2],[5,12]])\n",
    "print(data)\n",
    "print(\"*\"*70)\n",
    "\n",
    "normalizaed_l1=preprocessing.normalize(data,norm=\"l1\")\n",
    "print(normalizaed_l1)\n",
    "print(\"*\"*70)\n",
    "normalizaed_l2=preprocessing.normalize(data,norm=\"l2\")\n",
    "print(normalizaed_l2)\n"
   ]
  },
  {
   "cell_type": "code",
   "execution_count": 9,
   "id": "70541544-4bf9-4a29-b80e-01f05931b3e5",
   "metadata": {},
   "outputs": [
    {
     "name": "stdout",
     "output_type": "stream",
     "text": [
      "[[10.2 ]\n",
      " [22.5 ]\n",
      " [30.  ]\n",
      " [14.22]\n",
      " [50.  ]]\n",
      "**********************************************************************\n",
      "[[0.]\n",
      " [1.]\n",
      " [1.]\n",
      " [0.]\n",
      " [1.]]\n"
     ]
    }
   ],
   "source": [
    "#Binarization\n",
    "import numpy as np\n",
    "from sklearn import preprocessing\n",
    "data=np.array([[10.2],[22.5],[30],[14.22],[50]])\n",
    "print(data)\n",
    "print(\"*\"*70)\n",
    "binarazed_data=preprocessing.Binarizer(threshold=20).transform(data)\n",
    "print(binarazed_data)"
   ]
  },
  {
   "cell_type": "code",
   "execution_count": 19,
   "id": "8496275b-2558-4223-b84d-81033455f2b4",
   "metadata": {},
   "outputs": [
    {
     "name": "stdout",
     "output_type": "stream",
     "text": [
      "Labels: ['apple', 'banana', 'mango', 'grapes', 'mango', 'banana']\n",
      "[0 1 3 2 3 1]\n",
      "['mango', 'apple'] [3 0]\n",
      "['banana' 'mango']\n"
     ]
    }
   ],
   "source": [
    "#Label Encoding\n",
    "import numpy as np\n",
    "from sklearn import preprocessing\n",
    "\n",
    "labels=['apple','banana','mango','grapes','mango','banana']\n",
    "print(\"Labels:\",labels)\n",
    "\n",
    "lebels_encoder=preprocessing.LabelEncoder()\n",
    "op=lebels_encoder.fit_transform(labels)\n",
    "print(op)\n",
    "\n",
    "test_labels=['mango','apple']\n",
    "print(test_labels,lebels_encoder.transform(test_labels))\n",
    "test_codes=[1,3]\n",
    "print(lebels_encoder.inverse_transform(test_codes))"
   ]
  },
  {
   "cell_type": "code",
   "execution_count": 22,
   "id": "cae60059-143b-4c9e-aa9c-86324376e1a6",
   "metadata": {},
   "outputs": [
    {
     "name": "stdout",
     "output_type": "stream",
     "text": [
      "[[55000.]]\n"
     ]
    }
   ],
   "source": [
    "#Regrassion\n",
    "#Linear regrassion\n",
    "\n",
    "import numpy as np\n",
    "from sklearn.linear_model import LinearRegression\n",
    "\n",
    "exper=np.array([[1],[2],[3],[4],[5]])\n",
    "salary=np.array([[30000],[35000],[40000],[45000],[50000]])\n",
    "\n",
    "model=LinearRegression()\n",
    "model.fit(exper,salary)\n",
    "\n",
    "predicated_salary=model.predict([[6]])\n",
    "print(predicated_salary)"
   ]
  },
  {
   "cell_type": "code",
   "execution_count": 24,
   "id": "85e0d364-b1f8-4ad3-bdbe-c7927ca4f7f7",
   "metadata": {},
   "outputs": [
    {
     "name": "stdout",
     "output_type": "stream",
     "text": [
      "[47500.]\n"
     ]
    }
   ],
   "source": [
    "#Decision tree\n",
    "\n",
    "import numpy as np\n",
    "from sklearn.tree import DecisionTreeRegressor\n",
    "\n",
    "exper=np.array([[1],[2],[3],[4],[5]])\n",
    "salary=np.array([[30000],[35000],[40000],[45000],[50000]])\n",
    "\n",
    "model=DecisionTreeRegressor(max_depth=2)\n",
    "model.fit(exper,salary)\n",
    "\n",
    "print(model.predict([[6]]))"
   ]
  },
  {
   "cell_type": "code",
   "execution_count": null,
   "id": "cd73f7e6-153d-487a-8219-5ab855c14e49",
   "metadata": {},
   "outputs": [],
   "source": []
  }
 ],
 "metadata": {
  "kernelspec": {
   "display_name": "Python 3 (ipykernel)",
   "language": "python",
   "name": "python3"
  },
  "language_info": {
   "codemirror_mode": {
    "name": "ipython",
    "version": 3
   },
   "file_extension": ".py",
   "mimetype": "text/x-python",
   "name": "python",
   "nbconvert_exporter": "python",
   "pygments_lexer": "ipython3",
   "version": "3.10.2"
  }
 },
 "nbformat": 4,
 "nbformat_minor": 5
}
