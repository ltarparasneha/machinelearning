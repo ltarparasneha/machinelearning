{
 "cells": [
  {
   "cell_type": "code",
   "execution_count": 18,
   "id": "d9e3bb5a-51f7-4c95-8231-89e7cbdcb459",
   "metadata": {},
   "outputs": [
    {
     "name": "stdout",
     "output_type": "stream",
     "text": [
      "[[ 68  29  32  32]\n",
      " [286  32  30  30]\n",
      " [185  30  33  33]\n",
      " [ 42  58  29  29]\n",
      " [110  54  34  34]]\n"
     ]
    }
   ],
   "source": [
    "import cv2\n",
    "face_cascade=cv2.CascadeClassifier('haarcascade_frontalface_default.xml')\n",
    "\n",
    "img=cv2.imread('girls.jpg')\n",
    "gray_image=(cv2.cvtColor(img,cv2.COLOR_BGR2GRAY))\n",
    "\n",
    "face=face_cascade.detectMultiScale(gray_image,scaleFactor=1.1,minNeighbors=4)\n",
    "print(face)\n",
    "\n",
    "for(x,y,w,h) in face:\n",
    "    cv2.rectangle(img,(x,y),(x+w,y+h),(0,255,0),3)\n",
    "cv2.imshow('face dectors',img)\n",
    "cv2.waitKey()\n",
    "cv2.destroyAllWindows()"
   ]
  },
  {
   "cell_type": "code",
   "execution_count": null,
   "id": "5c957f2e-3684-496a-9c69-1fdbeaed636a",
   "metadata": {},
   "outputs": [],
   "source": []
  },
  {
   "cell_type": "code",
   "execution_count": null,
   "id": "0ede332c-1c8e-4b44-b4a8-2298e832e3c5",
   "metadata": {},
   "outputs": [],
   "source": []
  },
  {
   "cell_type": "code",
   "execution_count": null,
   "id": "afd21cf1-5325-486a-b6e5-5bcfeb4c09aa",
   "metadata": {},
   "outputs": [],
   "source": []
  }
 ],
 "metadata": {
  "kernelspec": {
   "display_name": "Python 3 (ipykernel)",
   "language": "python",
   "name": "python3"
  },
  "language_info": {
   "codemirror_mode": {
    "name": "ipython",
    "version": 3
   },
   "file_extension": ".py",
   "mimetype": "text/x-python",
   "name": "python",
   "nbconvert_exporter": "python",
   "pygments_lexer": "ipython3",
   "version": "3.10.2"
  }
 },
 "nbformat": 4,
 "nbformat_minor": 5
}
